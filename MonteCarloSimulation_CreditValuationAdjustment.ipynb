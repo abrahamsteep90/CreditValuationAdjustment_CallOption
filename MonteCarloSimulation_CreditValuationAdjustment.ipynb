{
 "cells": [
  {
   "cell_type": "code",
   "execution_count": 32,
   "metadata": {},
   "outputs": [],
   "source": [
    "import numpy as np\n",
    "from scipy.stats import norm\n",
    "import matplotlib.pyplot as plt\n",
    "import random"
   ]
  },
  {
   "cell_type": "code",
   "execution_count": 7,
   "metadata": {},
   "outputs": [],
   "source": [
    "risk_free=0.1\n",
    "sigma=0.3\n",
    "S_0=100\n",
    "strike=110\n",
    "T=1\n",
    "V_0=200\n",
    "sigma_firm=0.25\n",
    "debt=180\n",
    "recovery_rate=0.2\n"
   ]
  },
  {
   "cell_type": "code",
   "execution_count": 14,
   "metadata": {},
   "outputs": [],
   "source": [
    "def terminal_value(S_0, risk_free_rate,sigma,Z,T):\n",
    "    return S_0*np.exp((risk_free_rate-sigma**2/2)*T+sigma*np.sqrt(T)*Z)\n",
    "def call_payoff(S_T,K):\n",
    "    return np.maximum(S_T-K, 0)"
   ]
  },
  {
   "cell_type": "code",
   "execution_count": 15,
   "metadata": {},
   "outputs": [],
   "source": [
    "np.random.seed(0)\n",
    "\n",
    "corr_tested=np.linspace(-1,1,21)\n",
    "cva_estimates=[None]*len(corr_tested)\n",
    "cva_std=[None]*len(corr_tested)\n"
   ]
  },
  {
   "cell_type": "code",
   "execution_count": 20,
   "metadata": {},
   "outputs": [],
   "source": [
    "for i in range (len(corr_tested)):\n",
    "    correlation=corr_tested[i]\n",
    "    if (correlation==1 or correlation==-1):\n",
    "        norm_vec_0=norm.rvs(size=50000)\n",
    "        norm_vec_1=correlation*norm_vec_0\n",
    "        corr_norm_matrix=np.array([norm_vec_0, norm_vec_1])\n",
    "    else:\n",
    "        corr_matrix=np.array([[1,correlation],[correlation,1]])\n",
    "        norm_matrix=norm.rvs(size=np.array([2,50000]))\n",
    "        corr_norm_matrix=np.matmul(np.linalg.cholesky(corr_matrix),norm_matrix)\n",
    "    term_stock_val=terminal_value(S_0,risk_free,sigma_firm,corr_norm_matrix[0,],T)\n",
    "    call_val=call_payoff(term_stock_val,strike)\n",
    "    term_firm_val=terminal_value(V_0,risk_free,sigma_firm,corr_norm_matrix[1,],T)\n",
    "    amount_lost=np.exp(-risk_free*T)*(1-recovery_rate)*(term_firm_val<debt)*call_val\n",
    "    cva_estimates[i]=np.mean(amount_lost)\n",
    "    cva_std[i]=np.std(amount_lost)/np.sqrt(50000)"
   ]
  },
  {
   "cell_type": "code",
   "execution_count": 23,
   "metadata": {},
   "outputs": [],
   "source": [
    "d_1=(np.log(V_0/debt)+(risk_free+sigma_firm**2/2)*(T))/(sigma_firm*np.sqrt(T))\n",
    "d_2=d_1-sigma_firm*np.sqrt(T)\n",
    "default_prob=norm.cdf(-d_2)"
   ]
  },
  {
   "cell_type": "code",
   "execution_count": 24,
   "metadata": {},
   "outputs": [],
   "source": [
    "d_1_stock=(np.log(S_0/strike)+(risk_free+sigma**2/2)*(T))/(sigma*np.sqrt(T))\n",
    "d_2_stock=d_1_stock-sigma*np.sqrt(T)\n",
    "analytic_callprice=S_0*norm.cdf(d_1_stock)-strike*np.exp(-risk_free*(T))*norm.cdf(d_2_stock)"
   ]
  },
  {
   "cell_type": "code",
   "execution_count": 25,
   "metadata": {},
   "outputs": [],
   "source": [
    "uncorr_cva=(1-recovery_rate)*default_prob*analytic_callprice"
   ]
  },
  {
   "cell_type": "code",
   "execution_count": 29,
   "metadata": {},
   "outputs": [
    {
     "data": {
      "image/png": "[encoded data removed]",
      "text/plain": [
       "<Figure size 432x288 with 1 Axes>"
      ]
     },
     "metadata": {
      "needs_background": "light"
     },
     "output_type": "display_data"
    }
   ],
   "source": [
    "plt.plot(corr_tested,[uncorr_cva]*21)\n",
    "plt.plot(corr_tested,cva_estimates, '.')\n",
    "plt.plot(corr_tested,cva_estimates+3*np.array(cva_std), 'r')\n",
    "plt.plot(corr_tested,cva_estimates-3*np.array(cva_std),'r')\n",
    "plt.xlabel('Correlation')\n",
    "plt.ylabel('CVA')\n",
    "plt.show()"
   ]
  }
 ],
 "metadata": {
  "kernelspec": {
   "display_name": "Python 3",
   "language": "python",
   "name": "python3"
  },
  "language_info": {
   "codemirror_mode": {
    "name": "ipython",
    "version": 3
   },
   "file_extension": ".py",
   "mimetype": "text/x-python",
   "name": "python",
   "nbconvert_exporter": "python",
   "pygments_lexer": "ipython3",
   "version": "3.7.6"
  }
 },
 "nbformat": 4,
 "nbformat_minor": 4
}
